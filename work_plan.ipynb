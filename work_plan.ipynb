{
 "cells": [
  {
   "cell_type": "markdown",
   "metadata": {},
   "source": [
    "# Work Plan"
   ]
  },
  {
   "cell_type": "markdown",
   "metadata": {},
   "source": [
    "## Clarifying Questions\n",
    "These are the clarifying questions I would ask the company:\n",
    "\n",
    "- Can you provide a data dictionary for each of the shared files?\n",
    "- Is this the complete dataset or is there a separate test set available?\n",
    "- How do you plan to utilize the model results in Interconnect's daily operations?\n",
    "- Are there known usage patterns of services (phone, internet, etc.) that correlate with customer retention or churn?\n"
   ]
  },
  {
   "cell_type": "markdown",
   "metadata": {},
   "source": [
    "# Workflow Proposal\n",
    "\n",
    "## Stage 1: Define Project Objective\n",
    "- Analyze client needs and objectives, assess feasibility, and generate a plan with defined timelines and responsibilities.\n",
    "- Translate the objective into an analytical problem.\n",
    "\n",
    "## Stage 2: Data Collection\n",
    "- Acquire and extract project-related data from the company and load it into our analysis.\n",
    "\n",
    "## Stage 3: Preprocessing\n",
    "- Data cleaning (remove duplicates, handle null values, ensure data consistency).\n",
    "- Data transformation (Normalization, scaling, and/or creation of new variables).\n",
    "- Data splitting (Split data into training, validation, and test sets).\n",
    "\n",
    "## Stage 4: Exploration and Analysis\n",
    "- Exploratory Data Analysis (EDA) to understand data distribution and relationships.\n",
    "- Feature engineering.\n",
    "\n",
    "## Stage 5: Modeling\n",
    "- Apply various ML models and optimize for the best AUC metric (Classification) using cross-validation and hyperparameter tuning.\n",
    "\n",
    "## Stage 6: Model Deployment\n",
    "- Deploy the winning model to obtain prediction results.\n",
    "\n",
    "## Stage 7: Results Presentation\n",
    "- Summarize project outcomes and present the learning curve derived from the project.\n"
   ]
  }
 ],
 "metadata": {
  "kernelspec": {
   "display_name": "Python 3",
   "language": "python",
   "name": "python3"
  },
  "language_info": {
   "codemirror_mode": {
    "name": "ipython",
    "version": 3
   },
   "file_extension": ".py",
   "mimetype": "text/x-python",
   "name": "python",
   "nbconvert_exporter": "python",
   "pygments_lexer": "ipython3",
   "version": "3.12.1"
  }
 },
 "nbformat": 4,
 "nbformat_minor": 2
}
