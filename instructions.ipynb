{
 "cells": [
  {
   "cell_type": "markdown",
   "metadata": {},
   "source": [
    "## Main Assignment Conditions\n",
    "\n",
    "Telecommunications operator Interconnect would like to forecast its customer churn rate. If a user is found to be planning to leave, they will be offered promotional codes and special plan options. Interconnect's marketing team has collected some personal data from its customers, including information about their plans and contracts.\n",
    "\n",
    "Interconnect Services\n",
    "Interconnect mainly provides two types of services:\n",
    "\n",
    "- Fixed-line telephone communication. The phone can be connected to multiple lines simultaneously.\n",
    "- Internet. The network can be set up via a telephone line (DSL, digital subscriber line) or via fiber optic cable.\n",
    "\n",
    "Some other services offered by the company include:\n",
    "\n",
    "- Internet security: antivirus software (DeviceProtection) and a malicious website blocker (OnlineSecurity).\n",
    "- Technical support line (TechSupport).\n",
    "- Cloud file storage and data backup (OnlineBackup).\n",
    "- TV streaming (StreamingTV) and movie directory (StreamingMovies).\n",
    "- Customers can choose between monthly payments or signing a 1- or 2-year contract. They can use various payment methods and receive an electronic bill after a transaction.\n",
    "\n",
    "Data Description\n",
    "The data consists of files obtained from different sources:\n",
    "\n",
    "- contract.csv : contract information;\n",
    "- personal.csv : customer personal data;\n",
    "- internet.csv : information about Internet services;\n",
    "- phone.csv : information about phone services.\n",
    "\n",
    "In each file, the customerID column contains a unique code assigned to each customer. The contract information is valid starting from February 1, 2020."
   ]
  }
 ],
 "metadata": {
  "kernelspec": {
   "display_name": "Python 3",
   "language": "python",
   "name": "python3"
  },
  "language_info": {
   "codemirror_mode": {
    "name": "ipython",
    "version": 3
   },
   "file_extension": ".py",
   "mimetype": "text/x-python",
   "name": "python",
   "nbconvert_exporter": "python",
   "pygments_lexer": "ipython3",
   "version": "3.12.1"
  }
 },
 "nbformat": 4,
 "nbformat_minor": 2
}
