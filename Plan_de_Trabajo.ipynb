{
 "cells": [
  {
   "cell_type": "markdown",
   "metadata": {},
   "source": [
    "# Plan de Trabajo"
   ]
  },
  {
   "cell_type": "markdown",
   "metadata": {},
   "source": [
    "## Dudas aclaratorias\n",
    "\n",
    "## Estas son las preguntas aclaratorias que haría a la empresa.\n",
    "- ¿Pueden proporcionar un diccionario de cada uno de los archivos compartidos?\n",
    "- ¿Esta es la base completa o se cuenta con un conjunto de prueba separado?\n",
    "- ¿Cómo se planea utilizar los resultados del modelo en las operaciones diarias de Interconnect?\n",
    "- ¿Existen patrones conocidos de uso de servicios (teléfono, internet, etc.) que estén correlacionados con la retención o cancelación de clientes?\n"
   ]
  },
  {
   "cell_type": "markdown",
   "metadata": {},
   "source": [
    "# Propuesta de Flujo de Trabajo\n",
    "\n",
    "\n",
    "Etapa 1. Definir el objetivo del proyecto:\n",
    "- Analizar las necesidades y objetivos del cliente, entender su factibilidad y generar un plan para alcanzarlo, definiendo tiempos y responsabilidades.\n",
    "- Transformar el objetivo a un problema analítico.\n",
    "\n",
    "Etapa 2. Recolección de datos.\n",
    "- Adquirir y extraer los datos provenientes de la empresa (relacionados al proyectos) y cargarlos a nuestro análisis.\n",
    "\n",
    "Etapa 3. Preparación de datos.\n",
    "- Limpieza de datos(valores duplicados, nulos, coherencia de datos)\n",
    "- Transformación de datos (Normalización, escala y/o creación de nuevas variables)\n",
    "- Division de datos (Separación de datos en entrenamiento, validación y prueba)\n",
    "\n",
    "Etapa 4. Exploración y análisis.\n",
    "- Análisis exploratorio de datos (EDA) para entender la distribución y relación\n",
    "- Depuración de características.\n",
    "\n",
    "Etapa 5. Modelado\n",
    "- Aplicar diferentes modelos de ML y obtener la mejor métrica AUC (Clasificación) a través de la validación cruzada y el ajuste de hiper parámetros\n",
    "\n",
    "Etapa 6. Despliegue del Modelo\n",
    "- Ejecutar el modelo ganador para obtener los resultados de la predicción\n",
    "\n",
    "Etapa 7. Presentación de resultados\n",
    "- Resumen de los resultados y la curva de desarrollo generada a partír del proyecto\n"
   ]
  }
 ],
 "metadata": {
  "kernelspec": {
   "display_name": "Python 3",
   "language": "python",
   "name": "python3"
  },
  "language_info": {
   "codemirror_mode": {
    "name": "ipython",
    "version": 3
   },
   "file_extension": ".py",
   "mimetype": "text/x-python",
   "name": "python",
   "nbconvert_exporter": "python",
   "pygments_lexer": "ipython3",
   "version": "3.12.1"
  }
 },
 "nbformat": 4,
 "nbformat_minor": 2
}
